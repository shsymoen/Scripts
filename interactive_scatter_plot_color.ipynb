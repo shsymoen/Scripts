{
 "cells": [
  {
   "cell_type": "code",
   "execution_count": 1,
   "id": "c8b272bc",
   "metadata": {},
   "outputs": [],
   "source": [
    "import pandas as pd\n",
    "import matplotlib.pyplot as plt\n",
    "import numpy as np\n",
    "from sklearn import datasets\n",
    "import sys\n",
    "from IPython.display import display, Markdown\n",
    "from ipywidgets import interactive, Select, Dropdown\n",
    "%matplotlib inline"
   ]
  },
  {
   "cell_type": "code",
   "execution_count": 2,
   "id": "e68702ba",
   "metadata": {},
   "outputs": [],
   "source": [
    "%matplotlib inline"
   ]
  },
  {
   "cell_type": "code",
   "execution_count": 3,
   "id": "8b7cd7d4",
   "metadata": {},
   "outputs": [],
   "source": [
    "sys.path.append(\".\")\n",
    "from plotter import scatter_plot_color, is_datetime"
   ]
  },
  {
   "cell_type": "code",
   "execution_count": null,
   "id": "efb7c5b4",
   "metadata": {},
   "outputs": [],
   "source": [
    "iris = datasets.load_wine()\n",
    "df_iris = pd.DataFrame(\n",
    "    data=np.c_[iris[\"data\"], iris[\"target\"]],\n",
    "    columns=iris[\"feature_names\"] + [\"target\"],\n",
    ")\n",
    "converter = {0: \"setosa\", 1: \"versicolor\", 2: \"virginica\"}\n",
    "df_iris[\"target\"] = df_iris[\"target\"].replace(converter)\n",
    "df_iris.head()"
   ]
  },
  {
   "cell_type": "code",
   "execution_count": null,
   "id": "6441bb96",
   "metadata": {},
   "outputs": [],
   "source": [
    "# Make an updateable plot structure\n",
    "xas_widget = Select(\n",
    "    options=list(df_iris.columns),\n",
    "    description='x-axis',\n",
    "    value=df_iris.columns[0]\n",
    ")\n",
    "yas_widget = Select(\n",
    "    options=list(df_iris.columns),\n",
    "    description='y-axis',\n",
    "    value=df_iris.columns[1]\n",
    ")\n",
    "color_widget = Dropdown(\n",
    "    options=list(df_iris.columns),\n",
    "    description='coloring',\n",
    "    value='target'\n",
    ")\n",
    "\n",
    "def update_plot(**kwargs):\n",
    "    f, ax = plt.subplots()\n",
    "    plt.ion()\n",
    "    xas = xas_widget.value\n",
    "    yas = yas_widget.value\n",
    "    coloring = color_widget.value\n",
    "    scatter_plot_color(\n",
    "        f,\n",
    "        ax,\n",
    "        df_iris,\n",
    "        xas,\n",
    "        yas,\n",
    "        coloring,\n",
    "    )\n",
    "    \n",
    "interactive(\n",
    "    update_plot,\n",
    "    xas=xas_widget,\n",
    "    yas=yas_widget,\n",
    "    coloring=color_widget\n",
    ")"
   ]
  },
  {
   "cell_type": "markdown",
   "id": "646e4085",
   "metadata": {},
   "source": [
    "# Time series"
   ]
  },
  {
   "cell_type": "code",
   "execution_count": 4,
   "id": "6cd12878",
   "metadata": {},
   "outputs": [
    {
     "data": {
      "text/html": [
       "<div>\n",
       "<style scoped>\n",
       "    .dataframe tbody tr th:only-of-type {\n",
       "        vertical-align: middle;\n",
       "    }\n",
       "\n",
       "    .dataframe tbody tr th {\n",
       "        vertical-align: top;\n",
       "    }\n",
       "\n",
       "    .dataframe thead th {\n",
       "        text-align: right;\n",
       "    }\n",
       "</style>\n",
       "<table border=\"1\" class=\"dataframe\">\n",
       "  <thead>\n",
       "    <tr style=\"text-align: right;\">\n",
       "      <th></th>\n",
       "      <th>dau</th>\n",
       "      <th>date</th>\n",
       "    </tr>\n",
       "  </thead>\n",
       "  <tbody>\n",
       "    <tr>\n",
       "      <th>0</th>\n",
       "      <td>672</td>\n",
       "      <td>2019-01-01</td>\n",
       "    </tr>\n",
       "    <tr>\n",
       "      <th>1</th>\n",
       "      <td>705</td>\n",
       "      <td>2019-01-02</td>\n",
       "    </tr>\n",
       "    <tr>\n",
       "      <th>2</th>\n",
       "      <td>538</td>\n",
       "      <td>2019-01-03</td>\n",
       "    </tr>\n",
       "    <tr>\n",
       "      <th>3</th>\n",
       "      <td>745</td>\n",
       "      <td>2019-01-04</td>\n",
       "    </tr>\n",
       "    <tr>\n",
       "      <th>4</th>\n",
       "      <td>514</td>\n",
       "      <td>2019-01-05</td>\n",
       "    </tr>\n",
       "  </tbody>\n",
       "</table>\n",
       "</div>"
      ],
      "text/plain": [
       "   dau       date\n",
       "0  672 2019-01-01\n",
       "1  705 2019-01-02\n",
       "2  538 2019-01-03\n",
       "3  745 2019-01-04\n",
       "4  514 2019-01-05"
      ]
     },
     "execution_count": 4,
     "metadata": {},
     "output_type": "execute_result"
    }
   ],
   "source": [
    "df = pd.read_csv('http://bit.ly/30iosS6', parse_dates=['date'])\n",
    "df.head()"
   ]
  },
  {
   "cell_type": "code",
   "execution_count": 5,
   "id": "92d6dd88",
   "metadata": {},
   "outputs": [
    {
     "data": {
      "text/plain": [
       "<AxesSubplot:>"
      ]
     },
     "execution_count": 5,
     "metadata": {},
     "output_type": "execute_result"
    },
    {
     "data": {
      "image/png": "[encoded data removed]",
      "text/plain": [
       "<Figure size 432x288 with 1 Axes>"
      ]
     },
     "metadata": {
      "needs_background": "light"
     },
     "output_type": "display_data"
    }
   ],
   "source": [
    "df.plot()"
   ]
  },
  {
   "cell_type": "code",
   "execution_count": 6,
   "id": "d74d532b",
   "metadata": {},
   "outputs": [
    {
     "data": {
      "application/vnd.jupyter.widget-view+json": {
       "model_id": "3b5062ba7bee453184b7da4ce3b90f6e",
       "version_major": 2,
       "version_minor": 0
      },
      "text/plain": [
       "interactive(children=(Dropdown(description='x-axis', options=('dau', 'date'), value='dau'), Dropdown(descripti…"
      ]
     },
     "metadata": {},
     "output_type": "display_data"
    }
   ],
   "source": [
    "# Make an updateable plot structure\n",
    "xas_widget = Dropdown(\n",
    "    options=list(df.columns),\n",
    "    description='x-axis',\n",
    "    value=df.columns[0]\n",
    ")\n",
    "yas_widget = Dropdown(\n",
    "    options=list(df.columns),\n",
    "    description='y-axis',\n",
    "    value=df.columns[1]\n",
    ")\n",
    "color_widget = Dropdown(\n",
    "    options=list(df.columns),\n",
    "    description='coloring',\n",
    "    value=df.columns[1]\n",
    ")\n",
    "\n",
    "def update_plot(**kwargs):\n",
    "    f, ax = plt.subplots()\n",
    "    plt.ion()\n",
    "    xas = xas_widget.value\n",
    "    yas = yas_widget.value\n",
    "    coloring = color_widget.value\n",
    "    scatter_plot_color(\n",
    "        f,\n",
    "        ax,\n",
    "        df,\n",
    "        xas,\n",
    "        yas,\n",
    "        coloring,\n",
    "    )\n",
    "    \n",
    "interactive(\n",
    "    update_plot,\n",
    "    xas=xas_widget,\n",
    "    yas=yas_widget,\n",
    "    coloring=color_widget\n",
    ")"
   ]
  },
  {
   "cell_type": "code",
   "execution_count": null,
   "id": "e9c39bcf",
   "metadata": {},
   "outputs": [],
   "source": []
  }
 ],
 "metadata": {
  "kernelspec": {
   "display_name": "Python 3 (ipykernel)",
   "language": "python",
   "name": "python3"
  },
  "language_info": {
   "codemirror_mode": {
    "name": "ipython",
    "version": 3
   },
   "file_extension": ".py",
   "mimetype": "text/x-python",
   "name": "python",
   "nbconvert_exporter": "python",
   "pygments_lexer": "ipython3",
   "version": "3.9.7"
  }
 },
 "nbformat": 4,
 "nbformat_minor": 5
}
